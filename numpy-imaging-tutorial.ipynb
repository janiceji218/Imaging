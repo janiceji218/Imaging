{
 "cells": [
  {
   "cell_type": "markdown",
   "metadata": {},
   "source": [
    "# Basics of Imaging in Python and NumPy\n",
    "\n",
    "## Libraries\n",
    "\n",
    "We use the `Image` class from Pillow (aka PIL, the Python Imaging Library) to do file I/O and image display. For more details, please refer to the [Pillow tutorial](https://pillow.readthedocs.io/en/3.0.x/handbook/tutorial.html)."
   ]
  },
  {
   "cell_type": "code",
   "execution_count": null,
   "metadata": {},
   "outputs": [],
   "source": [
    "import numpy as np\n",
    "from PIL import Image"
   ]
  },
  {
   "cell_type": "markdown",
   "metadata": {},
   "source": [
    "A couple of tools from IPython (an underlying library related to Jupyter) are useful for displaying images:"
   ]
  },
  {
   "cell_type": "code",
   "execution_count": null,
   "metadata": {},
   "outputs": [],
   "source": [
    "from IPython.display import display\n",
    "from ipywidgets import interact"
   ]
  },
  {
   "cell_type": "markdown",
   "metadata": {},
   "source": [
    "We also use `matplotlib` as an alternate tool for displaying images."
   ]
  },
  {
   "cell_type": "code",
   "execution_count": null,
   "metadata": {},
   "outputs": [],
   "source": [
    "%matplotlib notebook\n",
    "import matplotlib\n",
    "from matplotlib import pyplot as plt"
   ]
  },
  {
   "cell_type": "markdown",
   "metadata": {},
   "source": [
    "## Loading and displaying images"
   ]
  },
  {
   "cell_type": "code",
   "execution_count": null,
   "metadata": {},
   "outputs": [],
   "source": [
    "load_img_path = './inputs/sponge-bob.png'\n",
    "img = Image.open(load_img_path)"
   ]
  },
  {
   "cell_type": "markdown",
   "metadata": {},
   "source": [
    "The object returned by `Image.open` is a PIL object that knows how to read the image data from this file when needed."
   ]
  },
  {
   "cell_type": "code",
   "execution_count": null,
   "metadata": {},
   "outputs": [],
   "source": [
    "type(img)"
   ]
  },
  {
   "cell_type": "markdown",
   "metadata": {},
   "source": [
    "The `IPython.display` function can display a PIL image inside Jupyter."
   ]
  },
  {
   "cell_type": "code",
   "execution_count": null,
   "metadata": {},
   "outputs": [],
   "source": [
    "display(img)"
   ]
  },
  {
   "cell_type": "markdown",
   "metadata": {},
   "source": [
    "## Getting at the image data\n",
    "\n",
    "Pillow objects provide methods to access image data, but if we convert a PIL image to a NumPy array, then we have more direct access to the pixel data, and all the tools of NumPy available to manipulate it directly."
   ]
  },
  {
   "cell_type": "code",
   "execution_count": null,
   "metadata": {},
   "outputs": [],
   "source": [
    "# Extract pixels:\n",
    "\n",
    "# Option 1: Load a PixelArray object\n",
    "pixels = img.load()\n",
    "print('Value at position (0,0): ', pixels[0,0])\n",
    "\n",
    "\n",
    "# Option 2: Convert to numpy array\n",
    "im = np.array(img)\n",
    "print('Dimensions of array: ', im.shape)\n",
    "print('Value at position (0,0): ', im[0,0])"
   ]
  },
  {
   "cell_type": "markdown",
   "metadata": {},
   "source": [
    "With the image in a NumPy array we can use matplotlib as an alternative for displaying images. The benefit is that we can now zoom in/out of the displayed image, and measure colors with mouse hovering."
   ]
  },
  {
   "cell_type": "code",
   "execution_count": null,
   "metadata": {},
   "outputs": [],
   "source": [
    "plt.figure()\n",
    "plt.imshow(im)"
   ]
  },
  {
   "cell_type": "markdown",
   "metadata": {},
   "source": [
    "A color image to be displayed in this way must have values of type uint8 (therefore in the range $[0,255]$) or float (in which case the displayed range is $[0,1]$).\n",
    "\n",
    "Alternatively, if we have image data in a NumPy array, we can also display it by constructing a Pillow image and using the `display` function:"
   ]
  },
  {
   "cell_type": "code",
   "execution_count": null,
   "metadata": {},
   "outputs": [],
   "source": [
    "display(Image.fromarray(im))"
   ]
  },
  {
   "cell_type": "markdown",
   "metadata": {},
   "source": [
    "To display an image this way it needs to be in the `uint8` datatype.  It's pretty easy to convert arrays to floating point without noticing, and if this happens you need to expliclty convert to `uint8`:"
   ]
  },
  {
   "cell_type": "code",
   "execution_count": null,
   "metadata": {},
   "outputs": [],
   "source": [
    "im_dark = 0.7 * im[:,:,:3]  # Note keeping just the RGB channels\n",
    "#display(Image.fromarray(im_dark))  # TypeError: Cannot handle this data type\n",
    "display(Image.fromarray(im_dark.astype(np.uint8)))"
   ]
  },
  {
   "cell_type": "markdown",
   "metadata": {},
   "source": [
    "## Manipulating images as arrays\n",
    "\n",
    "You can implement any imaginable image operation by doing math with the values in the NumPy array.  While it is possible to work with the Pillow Image object directly (e.g. the example below can be done with [this](https://pillow.readthedocs.io/en/3.0.x/handbook/tutorial.html#processing-individual-bands)), in this assignment we always convert the image into a Numpy array so that you are seeing the operations directly rather than just calling the Pillow API."
   ]
  },
  {
   "cell_type": "markdown",
   "metadata": {},
   "source": [
    "Now we can apply indexing operations and manipulate the array of pixels."
   ]
  },
  {
   "cell_type": "code",
   "execution_count": null,
   "metadata": {
    "scrolled": true
   },
   "outputs": [],
   "source": [
    "# Example 1: Extract the RGB channels\n",
    "\n",
    "# Option 1: Indexing the numpy array\n",
    "im_R = im.copy()\n",
    "im_R[:, :, (1, 2)] = 0\n",
    "im_G = im.copy()\n",
    "im_G[:, :, (0, 2)] = 0\n",
    "im_B = im.copy()\n",
    "im_B[:, :, (0, 1)] = 0\n",
    "\n",
    "# Option 2: Map & convert to list (and back)\n",
    "im_R1 = np.asarray([[(x[0],0,0,255) for x in y] for y in im])\n",
    "im_G1 = np.asarray([[(0,x[1],0,255) for x in y] for y in im])\n",
    "im_B1 = np.asarray([[(0,0,x[2],255) for x in y] for y in im])\n",
    "\n",
    "assert(np.array_equal(im_R,im_R1))\n",
    "assert(np.array_equal(im_G,im_G1))\n",
    "assert(np.array_equal(im_B,im_B1))\n",
    "\n",
    "im_RGB = np.concatenate((im_R, im_G, im_B), axis=1)\n",
    "\n",
    "# Convert to uint8 in order to save image as png/jpg\n",
    "# Here we save the image in RGBA format (same as the loaded image)\n",
    "# For a complete set of available modes: https://pillow.readthedocs.io/en/4.2.x/handbook/concepts.html#concept-modes\n",
    "# Note: The mode should correspond to the dimension of the image, e.g. in order to save as RGBA format,\n",
    "#       each entry im[x,y] should be in the form of (r,g,b,a)\n",
    "pil_RGB = Image.fromarray(im_RGB.astype(np.uint8), 'RGBA')\n",
    "pil_RGB.save('./sponge-bob-rgb.png')\n",
    "display(pil_RGB)"
   ]
  },
  {
   "cell_type": "code",
   "execution_count": null,
   "metadata": {},
   "outputs": [],
   "source": [
    "# Example 2: Inverse color\n",
    "\n",
    "# We can do math operations directly on a multi-dimensional numpy array\n",
    "im_inverse = 255 - im\n",
    "\n",
    "# Set the alpha channel back to 255 so the image is opaque\n",
    "im_inverse[:, :, 3] = 255\n",
    "\n",
    "pil_inverse = Image.fromarray(im_inverse)\n",
    "display(pil_inverse)"
   ]
  },
  {
   "cell_type": "code",
   "execution_count": null,
   "metadata": {},
   "outputs": [],
   "source": [
    "# Example 3: Iterating through pixels\n",
    "[h,w,rgba] = im.shape\n",
    "\n",
    "# Initialize new array and work with RGB channels only\n",
    "# We want the right half of the image to only contain the red channel\n",
    "half_r = np.zeros((h,w,3), np.uint8)\n",
    "for y in range(h):\n",
    "    for x in range(w):\n",
    "        if x > w / 2:\n",
    "            half_r[y,x] = (im[y,x,0],0,0)\n",
    "        else:\n",
    "            half_r[y,x] = im[y,x,0:3]\n",
    "        \n",
    "pil_half = Image.fromarray(half_r)\n",
    "display(pil_half)"
   ]
  },
  {
   "cell_type": "markdown",
   "metadata": {},
   "source": [
    "## Array operations in NumPy\n",
    "\n",
    "You can do any computations you like by writing Python code that loops over array indices and computes the results one element at a time.  But NumPy provides a really powerful set of tools for doing arithmetic on arrays, which can let you write more concise, sometimes more readable, and often vastly more efficient code.\n",
    "\n",
    "The rules are fundamentally pretty simple but things can get confusing pretty fast once you have more than 2 dimensions.  It's worth spending some time with the NumPy documentation to learn about this, but a few examples here can help you get oriented to what is available.\n",
    "\n",
    "You don't need to use the tricks shown below, but all of them are useful in the imaging assignment and if you master them you can make your code both shorter and much faster."
   ]
  },
  {
   "cell_type": "markdown",
   "metadata": {},
   "source": [
    "### Array indexing\n",
    "\n",
    "Basic indexing of arrays is unsurprising if you are used to regular array indexing in Python."
   ]
  },
  {
   "cell_type": "code",
   "execution_count": null,
   "metadata": {},
   "outputs": [],
   "source": [
    "A = np.array([[1,2,3],[4,5,6],[7,8,9]])   # A.shape is (3,3)\n",
    "A[0]     # single row of A as a 1D array (shape is (3,), not (1,3))\n",
    "A[0,:]   # also a single row of A\n",
    "A[:,0]   # single column of A as a 1D array (shape is (3,), not (3,1))\n",
    "A[:2,1:] # upper right block of 2 rows and 2 columns"
   ]
  },
  {
   "cell_type": "markdown",
   "metadata": {},
   "source": [
    "You can also supply a list of integers where an index goes &mdash; something you can't do with regular Python lists:"
   ]
  },
  {
   "cell_type": "code",
   "execution_count": null,
   "metadata": {},
   "outputs": [],
   "source": [
    "A[[0,2],:]  # top and bottom rows (index 0 and 2 along the 0th dimension) of A"
   ]
  },
  {
   "cell_type": "code",
   "execution_count": null,
   "metadata": {},
   "outputs": [],
   "source": [
    "A[[1],:]   # single row of A as a 1-row 2D array (shape is (1,3))"
   ]
  },
  {
   "cell_type": "code",
   "execution_count": null,
   "metadata": {},
   "outputs": [],
   "source": [
    "A[[0,1],[1,2]]"
   ]
  },
  {
   "cell_type": "markdown",
   "metadata": {},
   "source": [
    "You might think this would be the same as `A[:2,1:]`, but when you provide arrays of integers for all the indices, you get an array that is the same shape as the index array, and the input is indexed using corresponding entries of the index arrays.  This is easier to explain with a particular dimension.  Say `I` and `J` are both 2D arrays, and `A` is also a 2D array.  Then `A[I,J]` is an array the same size as `I` and `J` and the same type as `A`, and `A[I,J][k,l]` is a copy of `A[I[k,l],J[k,l]]`.  For example:"
   ]
  },
  {
   "cell_type": "code",
   "execution_count": null,
   "metadata": {},
   "outputs": [],
   "source": [
    "I = [[0,1],[1,2]]\n",
    "J = [[2,1],[1,1]]\n",
    "A[I,J]"
   ]
  },
  {
   "cell_type": "markdown",
   "metadata": {},
   "source": [
    "### Componentwise operations\n",
    "\n",
    "The regular arithmetic operations apply componentwise.  Notice that in the Python 3 tradition, division of integers with `/` is done in floating point."
   ]
  },
  {
   "cell_type": "code",
   "execution_count": null,
   "metadata": {},
   "outputs": [],
   "source": [
    "M = np.array([[3,1,4,1], [5,9,2,6], [5,3,5,8]])\n",
    "N = np.array([[2,7,1,8], [2,8,1,8], [2,8,4,5]])\n",
    "print(\"M\\n\", M)\n",
    "print(\"N\\n\", N)\n",
    "print(\"M + N\\n\", M + N)\n",
    "print(\"M * N\\n\", M * N)\n",
    "print(\"M / N\\n\", M / N)\n",
    "print(\"M // N\\n\", M // N)"
   ]
  },
  {
   "cell_type": "markdown",
   "metadata": {},
   "source": [
    "Scalar multiplication operates as you might expect:"
   ]
  },
  {
   "cell_type": "code",
   "execution_count": null,
   "metadata": {},
   "outputs": [],
   "source": [
    "0.5 * M"
   ]
  },
  {
   "cell_type": "markdown",
   "metadata": {},
   "source": [
    "And other arithmetic operations also apply the scalar to all components:"
   ]
  },
  {
   "cell_type": "code",
   "execution_count": null,
   "metadata": {},
   "outputs": [],
   "source": [
    "M - 1"
   ]
  },
  {
   "cell_type": "code",
   "execution_count": null,
   "metadata": {},
   "outputs": [],
   "source": [
    "M ** 2"
   ]
  },
  {
   "cell_type": "markdown",
   "metadata": {},
   "source": [
    "The array dimensions have to match, but there is a \"broadcasting\" rule that says any dimension of size 1 will automatically replicate out to the corresponding dimension of the other operand.  For instance, an array of shape (1,1) can be multiplied by any 2D array and implements scalar multiplication:"
   ]
  },
  {
   "cell_type": "code",
   "execution_count": null,
   "metadata": {},
   "outputs": [],
   "source": [
    "[[0.5]] * M"
   ]
  },
  {
   "cell_type": "markdown",
   "metadata": {},
   "source": [
    "To scale a 2D array column by column, multiply by a one-row array:"
   ]
  },
  {
   "cell_type": "code",
   "execution_count": null,
   "metadata": {},
   "outputs": [],
   "source": [
    "# Multiplies by:\n",
    "# [[1, 0, 2, 0],\n",
    "#  [1, 0, 2, 0],\n",
    "#  [1, 0, 2, 0]]\n",
    "[[1,0,2,0]] * M"
   ]
  },
  {
   "cell_type": "markdown",
   "metadata": {},
   "source": [
    "To scale each row, multiply by a one-column array:"
   ]
  },
  {
   "cell_type": "code",
   "execution_count": null,
   "metadata": {},
   "outputs": [],
   "source": [
    "# Multiplies by:\n",
    "# [[1, 1, 1, 1],\n",
    "#  [0, 0, 0, 0],\n",
    "#  [2, 2, 2, 2]]\n",
    "[[1],[0],[2]] * N"
   ]
  },
  {
   "cell_type": "markdown",
   "metadata": {},
   "source": [
    "And the same thing works along a third dimension, and also with other arithmetic operations:"
   ]
  },
  {
   "cell_type": "code",
   "execution_count": null,
   "metadata": {},
   "outputs": [],
   "source": [
    "P = np.stack([M,N])\n",
    "print(P.shape)\n",
    "s = np.array([[[1,0,2,0]]])\n",
    "print(s.shape)\n",
    "P - s"
   ]
  },
  {
   "cell_type": "markdown",
   "metadata": {},
   "source": [
    "A useful tool in getting arrays to broadcast the way you want them to is `newaxis`.  If you index a dimension of an array with this magic symbol, it adds an extra dimension to the array of size 1.  This is best illustrated by example.  Rather than using a ton of list brackets above, I could have used `newaxis` like this:"
   ]
  },
  {
   "cell_type": "code",
   "execution_count": null,
   "metadata": {},
   "outputs": [],
   "source": [
    "s = np.array([1,0,2,0])   # shape is (4,)\n",
    "t = np.array([1,0,2])   # shape is (3,)\n",
    "# Scale the columns (i.e. scale depends on second index)\n",
    "s[np.newaxis,:] * M\n",
    "# Scale the rows (scale depends on first index)\n",
    "t[:,np.newaxis] * N\n",
    "# Subtract a number that depends on the second index\n",
    "P - t[np.newaxis,:,np.newaxis]"
   ]
  },
  {
   "cell_type": "code",
   "execution_count": null,
   "metadata": {},
   "outputs": [],
   "source": [
    "# Subtract a number that depends on the third index\n",
    "P - s[np.newaxis,np.newaxis,:]"
   ]
  },
  {
   "cell_type": "markdown",
   "metadata": {},
   "source": [
    "Like arithmetic operations, all manner of math functions also can be applied componentwise, as long as you use the functions from NumPy rather than from the `math` module."
   ]
  },
  {
   "cell_type": "code",
   "execution_count": null,
   "metadata": {},
   "outputs": [],
   "source": [
    "np.sqrt(M)"
   ]
  },
  {
   "cell_type": "code",
   "execution_count": null,
   "metadata": {},
   "outputs": [],
   "source": [
    "np.exp(M - 1)"
   ]
  },
  {
   "cell_type": "markdown",
   "metadata": {},
   "source": [
    "This works pretty transparently so that you can often write code as if it operates on scalars, then apply it componentwise to arrays."
   ]
  },
  {
   "cell_type": "code",
   "execution_count": null,
   "metadata": {},
   "outputs": [],
   "source": [
    "(2 + np.sqrt(M**2 + 2)) / (N + M)"
   ]
  },
  {
   "cell_type": "markdown",
   "metadata": {},
   "source": [
    "### Tensor/matrix type operations\n",
    "\n",
    "If you have two matrices in arrays and you want to multiply the matrices, this is different from componentwise multiplication.  In NumPy the `@` operator implements matrix multiplication for 2D arrays."
   ]
  },
  {
   "cell_type": "code",
   "execution_count": null,
   "metadata": {},
   "outputs": [],
   "source": [
    "# M @ N  # ValueError: matmul: Input operand 1 has a mismatch in its core dimension .... size 3 is different from 4\n",
    "# M.transpose() * N  # ValueError: operands could not be broadcast together with shapes (4,3) (3,4) \n",
    "M.transpose() @ N"
   ]
  },
  {
   "cell_type": "markdown",
   "metadata": {},
   "source": [
    "The `@` operator can also multiply matrices and vectors, or compute dot products of vectors."
   ]
  },
  {
   "cell_type": "code",
   "execution_count": null,
   "metadata": {},
   "outputs": [],
   "source": [
    "M @ [1,0,2,0]  # Matrix product M v^T"
   ]
  },
  {
   "cell_type": "code",
   "execution_count": null,
   "metadata": {},
   "outputs": [],
   "source": [
    "[1,0,2] @ M  # Matrix product v M"
   ]
  },
  {
   "cell_type": "code",
   "execution_count": null,
   "metadata": {},
   "outputs": [],
   "source": [
    "v = np.array([1,2,3])\n",
    "w = np.array([3,2,1])\n",
    "v @ w # dot product v^T w"
   ]
  },
  {
   "cell_type": "markdown",
   "metadata": {},
   "source": [
    "A generalization of what the `@` operator does can be achieved by `tensordot`.  It lets you control which axis is being summed and allows summing over more than one axis.  To unpack this a bit: matrix multiplication of matrices $A$ and $B$ computes:\n",
    "\n",
    "\\\\[\\sum_k A_{ik} B_{kj}\\\\]\n",
    "\n",
    "By NumPy counting, $k$ is axis 1 of $A$ and axis 0 of $B$."
   ]
  },
  {
   "cell_type": "code",
   "execution_count": null,
   "metadata": {},
   "outputs": [],
   "source": [
    "np.tensordot(M, N, (0, 0))   # sum_k M_ki N_kj -- same as M.transpose() @ N\n",
    "np.tensordot(M, N, (1, 1))   # sum_k M_ik N_jk -- same as M @ N.transpose()"
   ]
  },
  {
   "cell_type": "code",
   "execution_count": null,
   "metadata": {},
   "outputs": [],
   "source": [
    "np.tensordot(P, M, (2,1))  # sum_k P_ijk M_lk -- i.e. compute M @ P[i,j,:] for every i and j"
   ]
  },
  {
   "cell_type": "code",
   "execution_count": null,
   "metadata": {},
   "outputs": [],
   "source": [
    "# Same computation with a Python list comprehension\n",
    "np.array([[M @ P[i,j,:] for j in range(P.shape[1])] for i in range(P.shape[0])])"
   ]
  },
  {
   "cell_type": "code",
   "execution_count": null,
   "metadata": {},
   "outputs": [],
   "source": [
    "# Same computation with a Python nested loop\n",
    "A = np.zeros(P.shape[:2] + M.shape[:1], P.dtype)\n",
    "for i in range (P.shape[0]):\n",
    "    for j in range (P.shape[1]):\n",
    "        A[i,j,:] = M @ P[i,j,:]\n",
    "A"
   ]
  },
  {
   "cell_type": "markdown",
   "metadata": {},
   "source": [
    "That is a quick tour of matrix operations in NumPy.  It takes a little learning to get accustomed to these tools but once you learn them they are quite powerful."
   ]
  }
 ],
 "metadata": {
  "kernelspec": {
   "display_name": "Python 3",
   "language": "python",
   "name": "python3"
  },
  "language_info": {
   "codemirror_mode": {
    "name": "ipython",
    "version": 3
   },
   "file_extension": ".py",
   "mimetype": "text/x-python",
   "name": "python",
   "nbconvert_exporter": "python",
   "pygments_lexer": "ipython3",
   "version": "3.7.4"
  }
 },
 "nbformat": 4,
 "nbformat_minor": 4
}
