{
 "cells": [
  {
   "cell_type": "markdown",
   "metadata": {},
   "source": [
    "# Discrete convolution filters\n",
    "\n",
    "In both of the previous parts, each output pixel depends on a single point in the input: for pointwise operations it's exactly the corresponding pixel, whereas for image \n",
    "warping the source locations come from a more arbitrary mapping.  For other kinds of operations we need output pixels to depend on a *neighborhood* in the input, and convolution is the canonical example.\n",
    "\n",
    "In this part we will implement convolution with arbitrary 2D filters and with separable 2D filters.  Take a moment to review the convolution lecture, which explains exactly how this operation works. The basic tasks are:\n",
    "\n",
    "* generate a Gaussian filter\n",
    "* implement a general convolution\n",
    "* implement separable filtering and time it against the general implementation\n",
    "* do sharpening with the unsharp mask\n",
    "\n",
    "First, we import a few libraries to be used:"
   ]
  },
  {
   "cell_type": "code",
   "execution_count": null,
   "metadata": {},
   "outputs": [],
   "source": [
    "import math\n",
    "import numpy as np\n",
    "from PIL import Image\n",
    "from IPython.display import display\n",
    "from ipywidgets import interact"
   ]
  },
  {
   "cell_type": "code",
   "execution_count": null,
   "metadata": {},
   "outputs": [],
   "source": [
    "%matplotlib notebook\n",
    "import matplotlib\n",
    "from matplotlib import pyplot as plt"
   ]
  },
  {
   "cell_type": "markdown",
   "metadata": {},
   "source": [
    "And let's load an image so we have something to filter:"
   ]
  },
  {
   "cell_type": "code",
   "execution_count": null,
   "metadata": {
    "scrolled": false
   },
   "outputs": [],
   "source": [
    "im = im_full = np.array(Image.open('inputs/Kinkaku-ji.jpg'))\n",
    "ref_size = 'large'\n",
    "display(Image.fromarray(im))"
   ]
  },
  {
   "cell_type": "code",
   "execution_count": null,
   "metadata": {
    "scrolled": false
   },
   "outputs": [],
   "source": [
    "# Smaller image for testing slower implementations\n",
    "im = im_full[205:605,593:993]; ref_size = 'medium'\n",
    "# Skip this cell to work with the full image...\n",
    "# Or uncomment this for an even smaller size...\n",
    "#im = im_full[209:409,717:917]; ref_size = 'small'\n",
    "display(Image.fromarray(im))"
   ]
  },
  {
   "cell_type": "markdown",
   "metadata": {},
   "source": [
    "## Starter example: box blur\n",
    "\n",
    "The simplest way to blur an image is using a box filter; as explained in lecture, this amounts to replacing each pixel with the average of the pixels in an area around it.  Here is a very simple implementation for a box filter of size $2r+1 \\times 2r+1$, using [`np.mean`](https://numpy.org/doc/stable/reference/generated/numpy.mean.html) to compute the average."
   ]
  },
  {
   "cell_type": "code",
   "execution_count": null,
   "metadata": {},
   "outputs": [],
   "source": [
    "%%time\n",
    "r = 7\n",
    "box_blur = np.zeros_like(im)\n",
    "for i in range(r, im.shape[0] - r):\n",
    "    for j in range(r, im.shape[1] - r):\n",
    "        box_blur[i,j] = np.mean(im[i-r:i+r+1,j-r:j+r+1,:], (0,1))\n",
    "display(Image.fromarray(box_blur))"
   ]
  },
  {
   "cell_type": "markdown",
   "metadata": {},
   "source": [
    "Note that I skipped computing the edges so as not to have to worry about out-of-bounds indexing (but you should compute all the way to the edge in your implementations below).  A couple of questions about this code:\n",
    "\n",
    "* Why does it say `r+1` where it does?\n",
    "* Why did I have to pass the second argument to `np.mean`?  What happens if it's omitted?\n",
    "\n",
    "Play around with this for different amounts of blur (different values of `r`).  It does work, but it does produce some kind of grid-aligned structures in the blurred image, almost as if it was photographed through a window screen.  It also gets slow because it does an amount of computation quadratic in `r`.\n",
    "\n",
    "If you think about this computation, there is something very wasteful about it: neighboring pixels in the output are averages of overlapping areas of the input, but we are computing the averages afresh every time.  Another way to approach this is to compute the averages along columns, then along rows.  (We discussed this in lecture under the name \"separable convolution.\")"
   ]
  },
  {
   "cell_type": "code",
   "execution_count": null,
   "metadata": {},
   "outputs": [],
   "source": [
    "%%time\n",
    "r = 7\n",
    "temp = np.zeros_like(im)\n",
    "for i in range(r, im.shape[0] - r):\n",
    "    for j in range(im.shape[1]):\n",
    "        temp[i,j] = np.mean(im[i-r:i+r+1,j,:], 0)\n",
    "box_blur2 = np.zeros_like(im)\n",
    "for i in range(im.shape[0]):\n",
    "    for j in range(r, im.shape[1] - r):\n",
    "        box_blur2[i,j] = np.mean(temp[i,j-r:j+r+1,:], 0)\n",
    "display(Image.fromarray(box_blur2))"
   ]
  },
  {
   "cell_type": "markdown",
   "metadata": {},
   "source": [
    "This approach computes the same result, and it is slower for small filters (because two passes involve more overhead), but for large filters it gets faster (it wins handily by $r = 30$ for me).  A couple questions to think about:\n",
    "\n",
    "* Why did I need different bounds on the loops this time?\n",
    "* What is in that `temp` image?  Why does it look like that?\n",
    "* What does the `temp` image look like if I blur along `j` first, then `i`?"
   ]
  },
  {
   "cell_type": "markdown",
   "metadata": {},
   "source": [
    "## Generate a Gaussian filter\n",
    "\n",
    "A nicer blur would be a weighted average that decays more gradually with distance, rather than just cutting off at the edge of the box.  It also would be nice if it was isotropic: it should assign pixels at the same distance the same weight.  And it would be nice if it was separable so that we could use that speedy trick to save computing cycles.  It turns out that once we demand all these things we have pretty much narrowed down the filter we want: it is a Gaussian function of the form\n",
    "\n",
    "\\\\[g(x,y) = C e^{-kr^2} = C e^{-k(x^2+y^2)} = C e^{-kx^2} e^{-ky^2}\\\\]\n",
    "\n",
    "for some positive constants $C$ and $k$.  You can tell it is isotropic because it is a function of distance ($x^2+y^2$ is squared distance), and it is also separable because the sum in the exponent allows the exponential part to be written as a product of functions of $x$ and $y$.  And it decays with distance as long as $k$ is positive. \n",
    "\n",
    "This function is known as a Gaussian, and it's the same kind of function that defines the familiar Normal distribution in statistics.\n",
    "\n",
    "The usual convention for choosing the constants $C$ and $k$ is to use one parameter called $\\sigma$, which is the standard deviation if this function is used to define a probability distribution, and normalize it so that its integral is $1$, leading to the [canonical](https://en.wikipedia.org/wiki/Gaussian_filter) form:\n",
    "\n",
    "\\\\[g(x,y)=\\frac{1}{2\\pi\\sigma^2}e^{-(x^2+y^2)/(2\\sigma^2)}\\\\]"
   ]
  },
  {
   "cell_type": "markdown",
   "metadata": {},
   "source": [
    "In order to use a Gaussian as a convolution filter, we need to discretize it as an array of weights.  So your first task is to write a function that will generate a Gaussian blur filter with a given dimension and standard deviation.  When you implement this you don't need to worry about the normalization constant, since you will want to normalize the discrete filter after you've computed it.\n",
    "\n",
    "For odd-numbered dimensions, the center pixel in the filter is considered zero offset (i.e. the filter is centered in the middle), and for even-numbered dimensions, the zero offset is half a pixel to the positive side.  For example, a 7x7 filter will have the gaussian centered at (3,3), but 8x8 and 9x9 will both have it centered at (4,4).\n",
    "\n",
    "**Note: You must implement this function from scratch. This means you cannot use functions like scipy.ndimage.gaussian_filter or similar functions from other libraries.**"
   ]
  },
  {
   "cell_type": "code",
   "execution_count": null,
   "metadata": {},
   "outputs": [],
   "source": [
    "# Input:\n",
    "#   dim: size of the filter in both x and y direction\n",
    "#   sigma: standard deviation of the gaussian filter\n",
    "# Output:\n",
    "#   A 2-dimensional numpy array of size dim*dim\n",
    "#   (Note that the array should be normalized)\n",
    "# Hint: Use linspace or mgrid from numpy\n",
    "def gen_gaussian_filter(dim, sigma):\n",
    "    # A3TODO: Complete this function\n",
    "    f = np.zeros([dim, dim]) # Replace this line with your implementation\n",
    "    \n",
    "    return f\n",
    "\n",
    "# testing\n",
    "f = gen_gaussian_filter(7,1)"
   ]
  },
  {
   "cell_type": "markdown",
   "metadata": {},
   "source": [
    "When you call this function you generally want the dimension to be big enough that the weights have dropped near zero by the time they get clipped at the edge of the filter.  A safe rule is to make the radius of the filter at least $3\\sigma$.  The following should show you a filter that has a peak value of 0.159 at the center and drops to 0.00177 at the edges and 1.97e-5 at the corners."
   ]
  },
  {
   "cell_type": "code",
   "execution_count": null,
   "metadata": {},
   "outputs": [],
   "source": [
    "plt.figure()\n",
    "plt.imshow(gen_gaussian_filter(7, 1))"
   ]
  },
  {
   "cell_type": "markdown",
   "metadata": {},
   "source": [
    "### General convolution\n",
    "\n",
    "Now that you have a way to get a filter, write a function that will take a filter and an image and return the filtered image.\n",
    "\n",
    "Please follow Slide 14 in the lecture on discrete convolution filters for the implementation.\n",
    "Your code should work for both square and non-square filters, with odd or even numbered dimensions.\n",
    "The centering of the filter is the same as for the filter generation.\n",
    "\n",
    "**Note: You must implement this function from scratch. This means you cannot use functions like scipy.ndimage.convolve or similar functions from other libraries.**\n",
    "\n",
    "[I'm not sure this is tested for non-square or even sizes or for non-symmetric filters.]"
   ]
  },
  {
   "cell_type": "code",
   "execution_count": null,
   "metadata": {},
   "outputs": [],
   "source": [
    "# Input:\n",
    "#   I: A 2D numpy array containing pixels of an image\n",
    "#   f: A squared/non-squared filter of odd/even-numbered dimensions\n",
    "# Output:\n",
    "#   A 2D numpy array resulting from applying the convolution filter f to I\n",
    "#   All the entries of the array should be of type uint8, and restricted to [0,255]\n",
    "#   You may use clip and astype in numpy to enforce this\n",
    "# Note: When convolving, do not operate on the entries outside of the image bound,\n",
    "#           i.e. clamp the ranges to the width and height of the image\n",
    "#       Tie-breaking: If f has an even number of dimensions in some direction (assume the dimension is 2r),\n",
    "#           sweep through [i-r+1, i+r] (i.e. length of left half = length of right half - 1)\n",
    "#           With odd # of dimensions (2r+1), you would sweep through [i-r, i+r].\n",
    "def convolve(I, f):\n",
    "    output = np.zeros_like(I)\n",
    "    \n",
    "    return output"
   ]
  },
  {
   "cell_type": "code",
   "execution_count": null,
   "metadata": {
    "scrolled": false
   },
   "outputs": [],
   "source": [
    "%%time\n",
    "blurred = convolve(im, gen_gaussian_filter(7, 1.0))\n",
    "ref_blurred = np.array(Image.open('./reference/convolution-reference-{0}.png'.format(ref_size)))\n",
    "print(\"Image is same as reference: \", np.array_equal(ref_blurred, blurred))\n",
    "display(Image.fromarray(blurred))"
   ]
  },
  {
   "cell_type": "markdown",
   "metadata": {},
   "source": [
    "## Separable filtering\n",
    "\n",
    "Just as in the box example above, and as explained in the lecture, the separability of the Gaussian filter means the filtering operation can be done more efficiently in two passes.  Make another implementation of the convolution operation that assumes the filter is separable (so you only need to pay attention to the center row or column of the filter) and computes a result that matches the 2D convolution but faster."
   ]
  },
  {
   "cell_type": "code",
   "execution_count": null,
   "metadata": {},
   "outputs": [],
   "source": [
    "# Input:\n",
    "#   I: A 2D numpy array containing pixels of an image\n",
    "#   f: A squared/non-squared filter of odd/even-numbered dimensions\n",
    "# Output:\n",
    "#   A 2D numpy array resulting from applying the convolution filter f to I\n",
    "#   All the entries of the array should be of type uint8, and restricted to [0,255]\n",
    "#   You may use clip and astype in numpy to enforce this\n",
    "# Note: When convolving, do not operate on the entries outside of the image bound,\n",
    "#           i.e. clamp the ranges to the width and height of the image in the for loop\n",
    "#       Tie-breaking: If f has an even number of dimensions in some direction (assume the dimension is 2r),\n",
    "#           sweep through [i-r+1, i+r] (i.e. length of left half = length of right half - 1)\n",
    "#           With odd # of dimensions (2r+1), you would sweep through [i-r, i+r].\n",
    "#       You will convolve with respect to the direction corresponding to I.shape[0] first, then I.shape[1]\n",
    "def convolve_sep(I, f):\n",
    "    output = np.zeros_like(I)\n",
    "        \n",
    "    # A3TODO: Complete this function\n",
    "    \n",
    "    return output"
   ]
  },
  {
   "cell_type": "code",
   "execution_count": null,
   "metadata": {},
   "outputs": [],
   "source": [
    "%%time\n",
    "blurred2 = convolve_sep(im, gen_gaussian_filter(7, 1.0))\n",
    "\n",
    "print(\"Max difference from 2D convolution:\", np.amax(np.abs(blurred2.astype(int) - blurred.astype(int))))\n",
    "display(Image.fromarray(blurred2))"
   ]
  },
  {
   "cell_type": "markdown",
   "metadata": {},
   "source": [
    "## Unsharp mask\n",
    "\n",
    "A simple and useful application of gaussian blur is a sharpening technique called *unsharp mask*.  The idea is to compute a blurred image and then make a sharpened image that is a convex linear combination of the original image\n",
    "and the blurred image, with a negative weight on the blurred image:\n",
    "\n",
    "\\\\[O = (1+w) I - w\\, \\text{blur}(I)\\\\]\n",
    "\n",
    "Implement an unsharp masking operation in the following function, which takes the $\\sigma$ for the blurring filter and the weight $w$ for the equation above.  Use a filter with a radius of 3 times the standard deviation (rounded up to the nearest integer).  This operation can produce pixel values outside the range $[0,255]$ which you'll need to clamp."
   ]
  },
  {
   "cell_type": "code",
   "execution_count": null,
   "metadata": {},
   "outputs": [],
   "source": [
    "# This function essentially subtracts a (scaled) blurred version of an image from (scaled version of) itself\n",
    "# Input:\n",
    "#   I: A 2D numpy array containing pixels of an image\n",
    "#   sigma: Gassian std.dev. for blurring\n",
    "#   w: Sharpening weight\n",
    "# Output:\n",
    "#   A sharpened version of I\n",
    "def unsharp_mask(I, sigma, w):\n",
    "    # A3TODO: Complete this function\n",
    "    output = np.zeros_like(I)\n",
    "\n",
    "    return output"
   ]
  },
  {
   "cell_type": "markdown",
   "metadata": {},
   "source": [
    "In this cell you can try it out for different parameters.  Larger blurs and higher weights both lead to stronger sharpening; the parameters $\\sigma=1.5, w=0.5$ work pretty well for the example image."
   ]
  },
  {
   "cell_type": "code",
   "execution_count": null,
   "metadata": {
    "scrolled": false
   },
   "outputs": [],
   "source": [
    "sharpened = unsharp_mask(im, 1.5, 0.5)\n",
    "ref_sharpened = np.array(Image.open('./reference/sharpened-reference-{0}.png'.format(ref_size)))\n",
    "print(\"Image is same as reference: \", np.array_equal(ref_sharpened, sharpened))\n",
    "display(Image.fromarray(sharpened))"
   ]
  },
  {
   "cell_type": "markdown",
   "metadata": {},
   "source": [
    "The effects of sharpening can be a little subtle, so here is a cell to compare the original image to the filtered versions:"
   ]
  },
  {
   "cell_type": "code",
   "execution_count": null,
   "metadata": {},
   "outputs": [],
   "source": [
    "interact(\n",
    "    lambda mode: display(Image.fromarray(\n",
    "        {0: im, 1: blurred, 2: sharpened}[mode])),\n",
    "    mode=[('original', 0), ('blurred', 1), ('sharpened', 2)]\n",
    ")"
   ]
  }
 ],
 "metadata": {
  "kernelspec": {
   "display_name": "Python 3",
   "language": "python",
   "name": "python3"
  },
  "language_info": {
   "codemirror_mode": {
    "name": "ipython",
    "version": 3
   },
   "file_extension": ".py",
   "mimetype": "text/x-python",
   "name": "python",
   "nbconvert_exporter": "python",
   "pygments_lexer": "ipython3",
   "version": "3.8.3"
  }
 },
 "nbformat": 4,
 "nbformat_minor": 4
}
